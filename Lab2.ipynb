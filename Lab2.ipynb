{
  "cells": [
    {
      "cell_type": "markdown",
      "source": [
        "The data we collected was trimmed (explained below). Access to the data can be found at https://github.com/Tristin-Young/Physics-Lab-2-Data .\n",
        "After importing, the notebook should run perfectly."
      ],
      "metadata": {
        "id": "jEShhScFr_C7"
      }
    },
    {
      "cell_type": "markdown",
      "source": [
        "Roles / Work Breakdown Structure:\n",
        "\n",
        "Tristin Young*(Leader/Quality Manager)*: \n",
        "\n",
        "\n",
        "*   Create a histogram using both of the data sets\n",
        "*   Export a set of magnetometer readings from PhyPhox to a spreadsheet\n",
        "\n",
        "\n",
        "*   Generate data using the mobile app outside\n",
        "\n",
        "\n",
        "\n",
        "\n",
        "\n",
        "\n",
        "\n",
        "\n",
        "James Eyler *(Spokesperson/Project Manager)*: \n",
        "\n",
        "\n",
        "*   Draft WBS and select group roles\n",
        "\n",
        "*   Compare reading to Bz GSM measurements\n",
        "*   Calculate the ‘t value from the two data points to determine whether the two data sets are similar\n",
        "\n",
        "\n",
        "\n",
        "\n",
        "\n",
        "\n",
        "\n"
      ],
      "metadata": {
        "id": "6JtyHOCz6tzr"
      }
    },
    {
      "cell_type": "markdown",
      "source": [
        "**Plan Breakdown:**\n",
        "\n",
        "In order to run our calculations, we had a **compass to point us north** with our phone and then, in order to maintain the same postition for both data sets we used a **man hole cover** in the middle of our apartment parking lot to keep the same position, styaying at least 5 meters from0 0buildings a0nd 0vehicles at all times."
      ],
      "metadata": {
        "id": "9FolpgHA7QQv"
      }
    },
    {
      "cell_type": "code",
      "execution_count": null,
      "metadata": {
        "id": "qtWv60OdhuDR"
      },
      "outputs": [],
      "source": [
        "# import modules needed\n",
        "import pandas as pd\n",
        "import numpy as np\n",
        "import matplotlib.pyplot as plt\n",
        "import math"
      ]
    },
    {
      "cell_type": "code",
      "execution_count": null,
      "metadata": {
        "id": "rdWD257ohuDS"
      },
      "outputs": [],
      "source": [
        "# read in the two sets of data\n",
        "# if data need to be cropped, do that in a spreadsheet first\n",
        "# give the dataframes different names when they get read in\n",
        "earlyData = pd.read_csv('Lab2Data1.csv', skiprows=0)\n",
        "laterData = pd.read_csv('Lab2Data2.csv', skiprows=0)"
      ]
    },
    {
      "cell_type": "markdown",
      "source": [
        "We omitted all readings before time (s) = 3.22 and time (s) = 3.5 for earlyData and laterData, respectively. This is to remove the calibration readings recieved when starting the test. At the beginning of every test, we waived our hands in a circular motion before stopping in the same testing location each time. This gave us a clearer output of the true reeading, for more accurate results.\n",
        "\n",
        "Let us now look at the shape of the data, as well as the first few rows."
      ],
      "metadata": {
        "id": "4h_jSv4LiQnz"
      }
    },
    {
      "cell_type": "code",
      "source": [
        "earlyData.shape"
      ],
      "metadata": {
        "colab": {
          "base_uri": "https://localhost:8080/"
        },
        "id": "bb1FWW68j2PU",
        "outputId": "4be61f26-6bb9-4eba-df53-a772c67f289a"
      },
      "execution_count": null,
      "outputs": [
        {
          "output_type": "execute_result",
          "data": {
            "text/plain": [
              "(339, 5)"
            ]
          },
          "metadata": {},
          "execution_count": 19
        }
      ]
    },
    {
      "cell_type": "code",
      "source": [
        "laterData.shape"
      ],
      "metadata": {
        "outputId": "299b413b-6fd4-4dc1-be6e-323c64eac7a9",
        "colab": {
          "base_uri": "https://localhost:8080/"
        },
        "id": "KsXlMKWJj9T7"
      },
      "execution_count": null,
      "outputs": [
        {
          "output_type": "execute_result",
          "data": {
            "text/plain": [
              "(578, 5)"
            ]
          },
          "metadata": {},
          "execution_count": 20
        }
      ]
    },
    {
      "cell_type": "code",
      "source": [
        "earlyData.head(3)"
      ],
      "metadata": {
        "id": "zIDEy9dHjANq",
        "outputId": "c6c292a9-886c-4fdc-951d-c6d143177f79",
        "colab": {
          "base_uri": "https://localhost:8080/",
          "height": 143
        }
      },
      "execution_count": null,
      "outputs": [
        {
          "output_type": "execute_result",
          "data": {
            "text/plain": [
              "   Time (s)  Magnetic Field x (µT)  Magnetic Field y (µT)  \\\n",
              "0      3.22                  -1.04                   21.6   \n",
              "1      3.23                  -1.28                   21.7   \n",
              "2      3.24                  -1.24                   21.7   \n",
              "\n",
              "   Magnetic Field z (µT)  Absolute field (µT)  \n",
              "0                  -36.2                 42.1  \n",
              "1                  -36.0                 42.1  \n",
              "2                  -36.3                 42.3  "
            ],
            "text/html": [
              "\n",
              "  <div id=\"df-8726062f-e24d-4e7d-8673-12b82c8ae363\">\n",
              "    <div class=\"colab-df-container\">\n",
              "      <div>\n",
              "<style scoped>\n",
              "    .dataframe tbody tr th:only-of-type {\n",
              "        vertical-align: middle;\n",
              "    }\n",
              "\n",
              "    .dataframe tbody tr th {\n",
              "        vertical-align: top;\n",
              "    }\n",
              "\n",
              "    .dataframe thead th {\n",
              "        text-align: right;\n",
              "    }\n",
              "</style>\n",
              "<table border=\"1\" class=\"dataframe\">\n",
              "  <thead>\n",
              "    <tr style=\"text-align: right;\">\n",
              "      <th></th>\n",
              "      <th>Time (s)</th>\n",
              "      <th>Magnetic Field x (µT)</th>\n",
              "      <th>Magnetic Field y (µT)</th>\n",
              "      <th>Magnetic Field z (µT)</th>\n",
              "      <th>Absolute field (µT)</th>\n",
              "    </tr>\n",
              "  </thead>\n",
              "  <tbody>\n",
              "    <tr>\n",
              "      <th>0</th>\n",
              "      <td>3.22</td>\n",
              "      <td>-1.04</td>\n",
              "      <td>21.6</td>\n",
              "      <td>-36.2</td>\n",
              "      <td>42.1</td>\n",
              "    </tr>\n",
              "    <tr>\n",
              "      <th>1</th>\n",
              "      <td>3.23</td>\n",
              "      <td>-1.28</td>\n",
              "      <td>21.7</td>\n",
              "      <td>-36.0</td>\n",
              "      <td>42.1</td>\n",
              "    </tr>\n",
              "    <tr>\n",
              "      <th>2</th>\n",
              "      <td>3.24</td>\n",
              "      <td>-1.24</td>\n",
              "      <td>21.7</td>\n",
              "      <td>-36.3</td>\n",
              "      <td>42.3</td>\n",
              "    </tr>\n",
              "  </tbody>\n",
              "</table>\n",
              "</div>\n",
              "      <button class=\"colab-df-convert\" onclick=\"convertToInteractive('df-8726062f-e24d-4e7d-8673-12b82c8ae363')\"\n",
              "              title=\"Convert this dataframe to an interactive table.\"\n",
              "              style=\"display:none;\">\n",
              "        \n",
              "  <svg xmlns=\"http://www.w3.org/2000/svg\" height=\"24px\"viewBox=\"0 0 24 24\"\n",
              "       width=\"24px\">\n",
              "    <path d=\"M0 0h24v24H0V0z\" fill=\"none\"/>\n",
              "    <path d=\"M18.56 5.44l.94 2.06.94-2.06 2.06-.94-2.06-.94-.94-2.06-.94 2.06-2.06.94zm-11 1L8.5 8.5l.94-2.06 2.06-.94-2.06-.94L8.5 2.5l-.94 2.06-2.06.94zm10 10l.94 2.06.94-2.06 2.06-.94-2.06-.94-.94-2.06-.94 2.06-2.06.94z\"/><path d=\"M17.41 7.96l-1.37-1.37c-.4-.4-.92-.59-1.43-.59-.52 0-1.04.2-1.43.59L10.3 9.45l-7.72 7.72c-.78.78-.78 2.05 0 2.83L4 21.41c.39.39.9.59 1.41.59.51 0 1.02-.2 1.41-.59l7.78-7.78 2.81-2.81c.8-.78.8-2.07 0-2.86zM5.41 20L4 18.59l7.72-7.72 1.47 1.35L5.41 20z\"/>\n",
              "  </svg>\n",
              "      </button>\n",
              "      \n",
              "  <style>\n",
              "    .colab-df-container {\n",
              "      display:flex;\n",
              "      flex-wrap:wrap;\n",
              "      gap: 12px;\n",
              "    }\n",
              "\n",
              "    .colab-df-convert {\n",
              "      background-color: #E8F0FE;\n",
              "      border: none;\n",
              "      border-radius: 50%;\n",
              "      cursor: pointer;\n",
              "      display: none;\n",
              "      fill: #1967D2;\n",
              "      height: 32px;\n",
              "      padding: 0 0 0 0;\n",
              "      width: 32px;\n",
              "    }\n",
              "\n",
              "    .colab-df-convert:hover {\n",
              "      background-color: #E2EBFA;\n",
              "      box-shadow: 0px 1px 2px rgba(60, 64, 67, 0.3), 0px 1px 3px 1px rgba(60, 64, 67, 0.15);\n",
              "      fill: #174EA6;\n",
              "    }\n",
              "\n",
              "    [theme=dark] .colab-df-convert {\n",
              "      background-color: #3B4455;\n",
              "      fill: #D2E3FC;\n",
              "    }\n",
              "\n",
              "    [theme=dark] .colab-df-convert:hover {\n",
              "      background-color: #434B5C;\n",
              "      box-shadow: 0px 1px 3px 1px rgba(0, 0, 0, 0.15);\n",
              "      filter: drop-shadow(0px 1px 2px rgba(0, 0, 0, 0.3));\n",
              "      fill: #FFFFFF;\n",
              "    }\n",
              "  </style>\n",
              "\n",
              "      <script>\n",
              "        const buttonEl =\n",
              "          document.querySelector('#df-8726062f-e24d-4e7d-8673-12b82c8ae363 button.colab-df-convert');\n",
              "        buttonEl.style.display =\n",
              "          google.colab.kernel.accessAllowed ? 'block' : 'none';\n",
              "\n",
              "        async function convertToInteractive(key) {\n",
              "          const element = document.querySelector('#df-8726062f-e24d-4e7d-8673-12b82c8ae363');\n",
              "          const dataTable =\n",
              "            await google.colab.kernel.invokeFunction('convertToInteractive',\n",
              "                                                     [key], {});\n",
              "          if (!dataTable) return;\n",
              "\n",
              "          const docLinkHtml = 'Like what you see? Visit the ' +\n",
              "            '<a target=\"_blank\" href=https://colab.research.google.com/notebooks/data_table.ipynb>data table notebook</a>'\n",
              "            + ' to learn more about interactive tables.';\n",
              "          element.innerHTML = '';\n",
              "          dataTable['output_type'] = 'display_data';\n",
              "          await google.colab.output.renderOutput(dataTable, element);\n",
              "          const docLink = document.createElement('div');\n",
              "          docLink.innerHTML = docLinkHtml;\n",
              "          element.appendChild(docLink);\n",
              "        }\n",
              "      </script>\n",
              "    </div>\n",
              "  </div>\n",
              "  "
            ]
          },
          "metadata": {},
          "execution_count": 12
        }
      ]
    },
    {
      "cell_type": "markdown",
      "source": [
        "In our first data collection our average directional vector is:\n",
        "\n",
        "<-7.75E-01, 2.13E+01, -3.62E+01>\n",
        "\n",
        "The average of our magnitude values was: 4.20E+01\n",
        "\n",
        "At this same time the Space Weather Prediction Center had their directional vector to be:\n",
        "\n",
        "<-7,-1,-1>\n",
        "\n",
        "Their magnitude value was: 7.14\n",
        "\n",
        "In comparison to our data our directional vector is different from the vector from the SWPC in terms of our y and z values but we are very similar in terms of our x value.\n",
        "\n",
        "*We cropped our data to only show the flatline because that was when the phone was still and able to record the data accurately*"
      ],
      "metadata": {
        "id": "YZvnJCeC8lKk"
      }
    },
    {
      "cell_type": "code",
      "source": [
        "laterData.head(3)"
      ],
      "metadata": {
        "id": "uCauIVmyjO10",
        "outputId": "50acc553-fd5a-4bf1-865a-f665afb26b4d",
        "colab": {
          "base_uri": "https://localhost:8080/",
          "height": 143
        }
      },
      "execution_count": null,
      "outputs": [
        {
          "output_type": "execute_result",
          "data": {
            "text/plain": [
              "   Time (s)  Magnetic Field x (µT)  Magnetic Field y (µT)  \\\n",
              "0      3.50                   4.40                   16.4   \n",
              "1      3.51                   4.28                   16.3   \n",
              "2      3.52                   4.26                   16.3   \n",
              "\n",
              "   Magnetic Field z (µT)  Absolute field (µT)  \n",
              "0                  -39.9                 43.3  \n",
              "1                  -39.5                 42.9  \n",
              "2                  -39.6                 43.1  "
            ],
            "text/html": [
              "\n",
              "  <div id=\"df-5cc1d323-f0d7-492c-ad4e-b1e6457c3df5\">\n",
              "    <div class=\"colab-df-container\">\n",
              "      <div>\n",
              "<style scoped>\n",
              "    .dataframe tbody tr th:only-of-type {\n",
              "        vertical-align: middle;\n",
              "    }\n",
              "\n",
              "    .dataframe tbody tr th {\n",
              "        vertical-align: top;\n",
              "    }\n",
              "\n",
              "    .dataframe thead th {\n",
              "        text-align: right;\n",
              "    }\n",
              "</style>\n",
              "<table border=\"1\" class=\"dataframe\">\n",
              "  <thead>\n",
              "    <tr style=\"text-align: right;\">\n",
              "      <th></th>\n",
              "      <th>Time (s)</th>\n",
              "      <th>Magnetic Field x (µT)</th>\n",
              "      <th>Magnetic Field y (µT)</th>\n",
              "      <th>Magnetic Field z (µT)</th>\n",
              "      <th>Absolute field (µT)</th>\n",
              "    </tr>\n",
              "  </thead>\n",
              "  <tbody>\n",
              "    <tr>\n",
              "      <th>0</th>\n",
              "      <td>3.50</td>\n",
              "      <td>4.40</td>\n",
              "      <td>16.4</td>\n",
              "      <td>-39.9</td>\n",
              "      <td>43.3</td>\n",
              "    </tr>\n",
              "    <tr>\n",
              "      <th>1</th>\n",
              "      <td>3.51</td>\n",
              "      <td>4.28</td>\n",
              "      <td>16.3</td>\n",
              "      <td>-39.5</td>\n",
              "      <td>42.9</td>\n",
              "    </tr>\n",
              "    <tr>\n",
              "      <th>2</th>\n",
              "      <td>3.52</td>\n",
              "      <td>4.26</td>\n",
              "      <td>16.3</td>\n",
              "      <td>-39.6</td>\n",
              "      <td>43.1</td>\n",
              "    </tr>\n",
              "  </tbody>\n",
              "</table>\n",
              "</div>\n",
              "      <button class=\"colab-df-convert\" onclick=\"convertToInteractive('df-5cc1d323-f0d7-492c-ad4e-b1e6457c3df5')\"\n",
              "              title=\"Convert this dataframe to an interactive table.\"\n",
              "              style=\"display:none;\">\n",
              "        \n",
              "  <svg xmlns=\"http://www.w3.org/2000/svg\" height=\"24px\"viewBox=\"0 0 24 24\"\n",
              "       width=\"24px\">\n",
              "    <path d=\"M0 0h24v24H0V0z\" fill=\"none\"/>\n",
              "    <path d=\"M18.56 5.44l.94 2.06.94-2.06 2.06-.94-2.06-.94-.94-2.06-.94 2.06-2.06.94zm-11 1L8.5 8.5l.94-2.06 2.06-.94-2.06-.94L8.5 2.5l-.94 2.06-2.06.94zm10 10l.94 2.06.94-2.06 2.06-.94-2.06-.94-.94-2.06-.94 2.06-2.06.94z\"/><path d=\"M17.41 7.96l-1.37-1.37c-.4-.4-.92-.59-1.43-.59-.52 0-1.04.2-1.43.59L10.3 9.45l-7.72 7.72c-.78.78-.78 2.05 0 2.83L4 21.41c.39.39.9.59 1.41.59.51 0 1.02-.2 1.41-.59l7.78-7.78 2.81-2.81c.8-.78.8-2.07 0-2.86zM5.41 20L4 18.59l7.72-7.72 1.47 1.35L5.41 20z\"/>\n",
              "  </svg>\n",
              "      </button>\n",
              "      \n",
              "  <style>\n",
              "    .colab-df-container {\n",
              "      display:flex;\n",
              "      flex-wrap:wrap;\n",
              "      gap: 12px;\n",
              "    }\n",
              "\n",
              "    .colab-df-convert {\n",
              "      background-color: #E8F0FE;\n",
              "      border: none;\n",
              "      border-radius: 50%;\n",
              "      cursor: pointer;\n",
              "      display: none;\n",
              "      fill: #1967D2;\n",
              "      height: 32px;\n",
              "      padding: 0 0 0 0;\n",
              "      width: 32px;\n",
              "    }\n",
              "\n",
              "    .colab-df-convert:hover {\n",
              "      background-color: #E2EBFA;\n",
              "      box-shadow: 0px 1px 2px rgba(60, 64, 67, 0.3), 0px 1px 3px 1px rgba(60, 64, 67, 0.15);\n",
              "      fill: #174EA6;\n",
              "    }\n",
              "\n",
              "    [theme=dark] .colab-df-convert {\n",
              "      background-color: #3B4455;\n",
              "      fill: #D2E3FC;\n",
              "    }\n",
              "\n",
              "    [theme=dark] .colab-df-convert:hover {\n",
              "      background-color: #434B5C;\n",
              "      box-shadow: 0px 1px 3px 1px rgba(0, 0, 0, 0.15);\n",
              "      filter: drop-shadow(0px 1px 2px rgba(0, 0, 0, 0.3));\n",
              "      fill: #FFFFFF;\n",
              "    }\n",
              "  </style>\n",
              "\n",
              "      <script>\n",
              "        const buttonEl =\n",
              "          document.querySelector('#df-5cc1d323-f0d7-492c-ad4e-b1e6457c3df5 button.colab-df-convert');\n",
              "        buttonEl.style.display =\n",
              "          google.colab.kernel.accessAllowed ? 'block' : 'none';\n",
              "\n",
              "        async function convertToInteractive(key) {\n",
              "          const element = document.querySelector('#df-5cc1d323-f0d7-492c-ad4e-b1e6457c3df5');\n",
              "          const dataTable =\n",
              "            await google.colab.kernel.invokeFunction('convertToInteractive',\n",
              "                                                     [key], {});\n",
              "          if (!dataTable) return;\n",
              "\n",
              "          const docLinkHtml = 'Like what you see? Visit the ' +\n",
              "            '<a target=\"_blank\" href=https://colab.research.google.com/notebooks/data_table.ipynb>data table notebook</a>'\n",
              "            + ' to learn more about interactive tables.';\n",
              "          element.innerHTML = '';\n",
              "          dataTable['output_type'] = 'display_data';\n",
              "          await google.colab.output.renderOutput(dataTable, element);\n",
              "          const docLink = document.createElement('div');\n",
              "          docLink.innerHTML = docLinkHtml;\n",
              "          element.appendChild(docLink);\n",
              "        }\n",
              "      </script>\n",
              "    </div>\n",
              "  </div>\n",
              "  "
            ]
          },
          "metadata": {},
          "execution_count": 6
        }
      ]
    },
    {
      "cell_type": "markdown",
      "source": [
        "In our second data collection our average directional vector is:\n",
        "\n",
        "<5.02E+00, 1.89 E+01, -3.62E+01>\n",
        "\n",
        "The average of our magnitude values was: 4.30E+01\n",
        "\n",
        "At this same time the Space Weather Prediction Center had their directional vector to be:\n",
        "\n",
        "<-4,-5,-8>\n",
        "\n",
        "Their magnitude value was: 10.25\n",
        "\n",
        "In comparison, these two data sets were completely different and did not have similar values in **x, y or z**.\n",
        "\n",
        "*We cropped our data to only show the flatline because that was when the phone was still and able to record the data accurately.*"
      ],
      "metadata": {
        "id": "ezARN8Xb-EA-"
      }
    },
    {
      "cell_type": "markdown",
      "source": [
        "Below is a histogram of both datasets on the same graph. Again, we are visualizing the Absolute field frequencies which occured most during our test."
      ],
      "metadata": {
        "id": "x8m4hDvhw2kT"
      }
    },
    {
      "cell_type": "code",
      "execution_count": null,
      "metadata": {
        "outputId": "b5a0f980-f906-4227-baf8-70cbbafa908e",
        "colab": {
          "base_uri": "https://localhost:8080/",
          "height": 384
        },
        "id": "T1Erlsh4lw75"
      },
      "outputs": [
        {
          "output_type": "stream",
          "name": "stderr",
          "text": [
            "/usr/local/lib/python3.7/dist-packages/numpy/core/fromnumeric.py:3208: VisibleDeprecationWarning: Creating an ndarray from ragged nested sequences (which is a list-or-tuple of lists-or-tuples-or ndarrays with different lengths or shapes) is deprecated. If you meant to do this, you must specify 'dtype=object' when creating the ndarray.\n",
            "  return asarray(a).size\n",
            "/usr/local/lib/python3.7/dist-packages/matplotlib/cbook/__init__.py:1376: VisibleDeprecationWarning: Creating an ndarray from ragged nested sequences (which is a list-or-tuple of lists-or-tuples-or ndarrays with different lengths or shapes) is deprecated. If you meant to do this, you must specify 'dtype=object' when creating the ndarray.\n",
            "  X = np.atleast_1d(X.T if isinstance(X, np.ndarray) else np.asarray(X))\n"
          ]
        },
        {
          "output_type": "display_data",
          "data": {
            "text/plain": [
              "<Figure size 432x288 with 1 Axes>"
            ],
            "image/png": "[encoded data removed]"
          },
          "metadata": {
            "needs_background": "light"
          }
        }
      ],
      "source": [
        "# Plotting Later time Absolute Field\n",
        "# make a histogram with one column\n",
        "#bins = np.linspace(41.8, 44, 25)\n",
        "plt.hist([earlyData['Absolute field (µT)'], laterData['Absolute field (µT)']], bins=25, label=['4:45PM Absolute Field', '6:45PM Absolute Field'])\n",
        "plt.title(\"4:45PM / 6:45PM Absolute field\")\n",
        "plt.legend(loc='upper right')\n",
        "plt.xlabel(\"Absolute field (µT)\")\n",
        "plt.ylabel(\"frequency\")\n",
        "plt.show()"
      ]
    },
    {
      "cell_type": "markdown",
      "source": [
        "Let us now do some math on our two datasets. By performing the calculations below, we can also determine a t' value to confidently state whether these datasets are distinguishable or not."
      ],
      "metadata": {
        "id": "QYUua_JYxKLo"
      }
    },
    {
      "cell_type": "code",
      "execution_count": null,
      "metadata": {
        "id": "vl3C-QpKhuDT"
      },
      "outputs": [],
      "source": [
        "# calculate a Holmes t' \n",
        "\n",
        "#std devs of both times' Absolute fields\n",
        "earlyStd = earlyData['Absolute field (µT)'].std()\n",
        "laterStd = laterData['Absolute field (µT)'].std()\n",
        "\n",
        "#means of both times' Absolute fields\n",
        "earlyMean = earlyData['Absolute field (µT)'].mean()\n",
        "laterMean = laterData['Absolute field (µT)'].mean()\n",
        "\n",
        "#std devs squared of both times' Absolute fields\n",
        "earlyStdsq = earlyStd * earlyStd\n",
        "laterStdsq = laterStd * laterStd\n",
        "\n",
        "#top half of holmes t' value\n",
        "diffInMeans = (earlyMean - laterMean)\n",
        "\n",
        "#bottom half of holmes t' value\n",
        "combinedUncertainty = math.sqrt(earlyStdsq + laterStdsq)\n",
        "\n",
        "#holmes t value\n",
        "holmesTval = diffInMeans / combinedUncertainty\n",
        "\n",
        "#absolute value of holmes t' value:\n",
        "absHolmesTval = abs(holmesTval)"
      ]
    },
    {
      "cell_type": "code",
      "source": [
        "print(\"Early Std Dev: \", earlyStd)\n",
        "print(\"Later Std Dev: \", laterStd)\n",
        "print(\"Early Mean: \", earlyMean)\n",
        "print(\"Later Mean: \", laterMean)\n",
        "print(\"Early Std Dev (squared): \", earlyStdsq)\n",
        "print(\"Later Std Dev (squared): \", laterStdsq)\n",
        "print(\"Difference in Means: \", diffInMeans)\n",
        "print(\"Combined uncertainty: \", combinedUncertainty)\n",
        "print(\"Holmes t' value: \", holmesTval)\n",
        "print(\"Holmes t' value (absolute value): \", absHolmesTval)"
      ],
      "metadata": {
        "id": "gvq9bYcys1hZ",
        "outputId": "dc586a91-c59e-49ce-b8ac-c01b4ded71ce",
        "colab": {
          "base_uri": "https://localhost:8080/"
        }
      },
      "execution_count": null,
      "outputs": [
        {
          "output_type": "stream",
          "name": "stdout",
          "text": [
            "Early Std Dev:  0.262407291641188\n",
            "Later Std Dev:  0.25875125424487594\n",
            "Early Mean:  42.01032448377581\n",
            "Later Mean:  42.986819484240684\n",
            "Early Std Dev (squared):  0.06885758670646348\n",
            "Later Std Dev (squared):  0.06695221157329642\n",
            "Difference in Means:  -0.9764950004648725\n",
            "Combined uncertainty:  0.36852380965109965\n",
            "Holmes t' value:  -2.649747383729074\n",
            "Holmes t' value (absolute value):  2.649747383729074\n"
          ]
        }
      ]
    },
    {
      "cell_type": "markdown",
      "source": [
        "After getting a t' value of 2.65, roughly, we can \"safely conclude that it is possible that earlyData and laterData are the same, but they are not clearly\n",
        "indistinguishable\" (according to Holmes)."
      ],
      "metadata": {
        "id": "JvI_nh8HxhwS"
      }
    },
    {
      "cell_type": "markdown",
      "source": [
        "**Conclusion:**\n",
        "\n",
        "According to our data, and our 't value, our data sets were similar but not clearly indistinguishable according to holmes 't test in statistics summary. Our data in comparison to the Bz GSM measurements was not very similar at all, it was  only similar in the x values of the vectors at the time of first data set. "
      ],
      "metadata": {
        "id": "9x83cLce8MVY"
      }
    },
    {
      "cell_type": "markdown",
      "source": [
        "**References:**\n",
        "\n",
        "Holmes, Natasha. “Summary Statistics.” *Statistics Summary*, vol. 2, pp. 1–7., https://doi.org/10.1002/9780470316979.ch2. \n",
        "\n",
        "Hunter, J. D. (2007). Citing matplotlib#. Retrieved November 20, 2022, from https://matplotlib.org/stable/users/project/citing.html"
      ],
      "metadata": {
        "id": "pjloel9gFDm4"
      }
    },
    {
      "cell_type": "markdown",
      "metadata": {
        "id": "4hkWpPPHhuDT"
      },
      "source": [
        "<hr/>  \n",
        "\n",
        "# Credits\n",
        "This notebook was written by [Adam LaMee](http://www.adamlamee.com) with contributions by UCF graduate student Ifthakar Bin Elius. Thanks to the great folks at [Binder](https://mybinder.org/) and [Google Colaboratory](https://colab.research.google.com/notebooks/intro.ipynb) for making this notebook interactive without you needing to download it or install [Jupyter](https://jupyter.org/) on your own device."
      ]
    }
  ],
  "metadata": {
    "kernelspec": {
      "display_name": "Python 3 (ipykernel)",
      "language": "python",
      "name": "python3"
    },
    "language_info": {
      "codemirror_mode": {
        "name": "ipython",
        "version": 3
      },
      "file_extension": ".py",
      "mimetype": "text/x-python",
      "name": "python",
      "nbconvert_exporter": "python",
      "pygments_lexer": "ipython3",
      "version": "3.9.7"
    },
    "colab": {
      "provenance": []
    }
  },
  "nbformat": 4,
  "nbformat_minor": 0
}